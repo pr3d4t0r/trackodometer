{
 "cells": [
  {
   "cell_type": "markdown",
   "metadata": {},
   "source": [
    "# README"
   ]
  },
  {
   "cell_type": "markdown",
   "metadata": {},
   "source": [
    "---\n",
    "## Requirements\n",
    "\n",
    "1. Docker\n",
    "1. Docker Compose\n",
    "1. A copy of the code (get the [source .zip file or fork the repository](https://github.com/pr3d4t0r/trackodometer))\n",
    "1. Basic Python knowledge\n",
    "1. Access to the file system to put the data files"
   ]
  },
  {
   "cell_type": "markdown",
   "metadata": {},
   "source": [
    "---\n",
    "## Running the trackodometer locally\n",
    "\n",
    "1. Open a terminal\n",
    "1. Go to the directory where you copied the code\n",
    "1. Execute this command:  `./run`\n",
    "1. Execute this command:  `docker logs trackodometer_cime_dev` - get the identification token; it's the long string of alphanumeric characters at the bottom of the screen\n",
    "1. Open this in your browser:  http://localhost:8809/lab\n",
    "1. Set your own access password to something that you can remember, use the token from the previous step for validation\n",
    "1. That's it!\n",
    "\n",
    "From here, you can go straight to the [Tracking Competition Scoring](http://localhost:8809/notebooks/scoring.ipynb) tool and start working with FlySight data.  Check out the [How to use JupyterLab video](https://www.youtube.com/watch?v=A5YyoCKxEOU) if you're a developer and want to learn the basic features of the environment."
   ]
  },
  {
   "cell_type": "markdown",
   "metadata": {},
   "source": [
    "---\n",
    "## Using Git from within the environment\n",
    "\n",
    "This environment supports using Git commands from within the running Docker container, or from the host environment, against the same repository."
   ]
  },
  {
   "cell_type": "markdown",
   "metadata": {},
   "source": [
    "### Configuration\n",
    "\n",
    "1. Ensure that the `~/.ssh` directory exists"
   ]
  },
  {
   "cell_type": "code",
   "execution_count": null,
   "metadata": {},
   "outputs": [],
   "source": [
    "%sx if [[ -d \".ssh\" ]]; then echo \".ssh directory OK - continue\"; else echo \"Run:  ssh-keygen -t ed25519\"; fi"
   ]
  },
  {
   "cell_type": "markdown",
   "metadata": {},
   "source": [
    "2. Add your public key to GitHub under _yourAccount/Settings/SSH and PGP keys_\n",
    "2. Fetch the latest branches and state from GitHub `origin`"
   ]
  },
  {
   "cell_type": "code",
   "execution_count": null,
   "metadata": {},
   "outputs": [],
   "source": [
    "%sx git fetch 2> \"/dev/null\" ; [[ \"$?\" = \"0\" ]] || echo \"Unable to fetch - your account is not authorized to fetch or pull\""
   ]
  },
  {
   "cell_type": "markdown",
   "metadata": {},
   "source": [
    "4. List all branches and continue using Git as usual"
   ]
  },
  {
   "cell_type": "code",
   "execution_count": null,
   "metadata": {},
   "outputs": [],
   "source": [
    "%sx git branch -a"
   ]
  },
  {
   "cell_type": "markdown",
   "metadata": {},
   "source": [
    "---\n",
    "## Vim and NERDTree support\n",
    "\n",
    "A complete command line development environment for Python shipped with this project.  Vim is the default programming editor, available in any terminal.  (NERDTree)[https://github.com/preservim/nerdtree] will simplify file system operations."
   ]
  },
  {
   "cell_type": "markdown",
   "metadata": {},
   "source": [
    "### Check NERDTree availability"
   ]
  },
  {
   "cell_type": "code",
   "execution_count": null,
   "metadata": {},
   "outputs": [],
   "source": [
    "%sx if (test -d \"$HOME/.vim/pack/vendor/start/nerdtree\"); then echo \"NERDTree is installed and ready\"; else echo \"NERDTree is NOT installed\"; fi"
   ]
  },
  {
   "cell_type": "markdown",
   "metadata": {},
   "source": [
    "### Install NERDTree"
   ]
  },
  {
   "cell_type": "code",
   "execution_count": null,
   "metadata": {},
   "outputs": [],
   "source": [
    "%sx git clone https://github.com/preservim/nerdtree.git ~/.vim/pack/vendor/start/nerdtree"
   ]
  },
  {
   "cell_type": "code",
   "execution_count": null,
   "metadata": {},
   "outputs": [],
   "source": [
    "%sx vim -u NONE -c \"helptags ~/.vim/pack/vendor/start/nerdtree/doc\" -c q"
   ]
  },
  {
   "cell_type": "markdown",
   "metadata": {},
   "source": [
    "---\n",
    "### nbstripout - strips all output from notebooks before a commit\n",
    "\n",
    "This only needs to run once per repository.  The configuration file alread exists in `./work/.pre-commit-config.yaml`, run this command to avoid having to clear all the Notebooks by hand."
   ]
  },
  {
   "cell_type": "code",
   "execution_count": null,
   "metadata": {},
   "outputs": [],
   "source": [
    "!! [[ -n $(which pre-commit) ]] && pre-commit install"
   ]
  },
  {
   "cell_type": "markdown",
   "metadata": {},
   "source": [
    "---\n",
    "&#169; pr3d4t0r Speed Skydiving Team - [BSD-3 license](https://github.com/pr3d4t0r/trackodometer/blob/master/LICENSE)"
   ]
  }
 ],
 "metadata": {
  "kernelspec": {
   "display_name": "Python 3",
   "language": "python",
   "name": "python3"
  },
  "language_info": {
   "codemirror_mode": {
    "name": "ipython",
    "version": 3
   },
   "file_extension": ".py",
   "mimetype": "text/x-python",
   "name": "python",
   "nbconvert_exporter": "python",
   "pygments_lexer": "ipython3",
   "version": "3.8.3"
  }
 },
 "nbformat": 4,
 "nbformat_minor": 4
}
